{
  "nbformat": 4,
  "nbformat_minor": 0,
  "metadata": {
    "colab": {
      "provenance": [],
      "collapsed_sections": [
        "Z92WbnQvgi5u",
        "YT-UdmV0hpF2",
        "xYEoz3_Zk9Jo"
      ]
    },
    "kernelspec": {
      "name": "python3",
      "display_name": "Python 3"
    },
    "language_info": {
      "name": "python"
    }
  },
  "cells": [
    {
      "cell_type": "markdown",
      "source": [
        "# **Machine Learning Pipeline for Predicting Student Adaptability Levels in Online Education**"
      ],
      "metadata": {
        "id": "buZzi0e94-En"
      }
    },
    {
      "cell_type": "markdown",
      "source": [
        "## **Dataset Overview**\n",
        "The dataset chosen for this task includes various features related to students' demographics, socioeconomic status, and access to technology, which are used to predict their adaptability levels to online education. The adaptability level is categorized into Low, Moderate, and High. This dataset was selected for its relevance to current educational challenges and the opportunity it presents for impactful analysis.\n",
        "\n",
        "Dataset URL: https://www.kaggle.com/datasets/mdmahmudulhasansuzan/students-adaptability-level-in-online-education/data"
      ],
      "metadata": {
        "id": "9NE30zix5M4O"
      }
    },
    {
      "cell_type": "markdown",
      "source": [
        "## **Problem Statement**\n",
        "\n",
        "With the shift towards online education, understanding factors that influence student adaptability is crucial for educational institutions. This project aims to predict student adaptability levels to online education, enabling targeted interventions to support students effectively. By identifying students who might struggle with online learning environments, educators can provide personalized resources and support, ultimately improving learning outcomes and student satisfaction."
      ],
      "metadata": {
        "id": "RobHiw_T6H-d"
      }
    },
    {
      "cell_type": "markdown",
      "source": [
        "## **Defining the dataset**"
      ],
      "metadata": {
        "id": "kr_bLXyeoaG3"
      }
    },
    {
      "cell_type": "code",
      "source": [
        "import pandas as pd\n",
        "\n",
        "# Loading the dataset\n",
        "file_path = '/content/drive/MyDrive/students_adaptability_level_online_education.csv'\n",
        "data = pd.read_csv(file_path)\n",
        "\n",
        "#This step is to get some idea on how the data looks like\n",
        "print(data.head())\n"
      ],
      "metadata": {
        "colab": {
          "base_uri": "https://localhost:8080/"
        },
        "id": "x_rH9XB6L50t",
        "outputId": "2156f043-acf0-463e-e29c-0f4aaa0ac3d3"
      },
      "execution_count": null,
      "outputs": [
        {
          "output_type": "stream",
          "name": "stdout",
          "text": [
            "  Gender    Age Education Level Institution Type IT Student Location  \\\n",
            "0    Boy  21-25      University   Non Government         No      Yes   \n",
            "1   Girl  21-25      University   Non Government         No      Yes   \n",
            "2   Girl  16-20         College       Government         No      Yes   \n",
            "3   Girl  11-15          School   Non Government         No      Yes   \n",
            "4   Girl  16-20          School   Non Government         No      Yes   \n",
            "\n",
            "  Load-shedding Financial Condition Internet Type Network Type Class Duration  \\\n",
            "0           Low                 Mid          Wifi           4G            3-6   \n",
            "1          High                 Mid   Mobile Data           4G            1-3   \n",
            "2           Low                 Mid          Wifi           4G            1-3   \n",
            "3           Low                 Mid   Mobile Data           4G            1-3   \n",
            "4           Low                Poor   Mobile Data           3G              0   \n",
            "\n",
            "  Self Lms  Device Adaptivity Level  \n",
            "0       No     Tab         Moderate  \n",
            "1      Yes  Mobile         Moderate  \n",
            "2       No  Mobile         Moderate  \n",
            "3       No  Mobile         Moderate  \n",
            "4       No  Mobile              Low  \n"
          ]
        }
      ]
    },
    {
      "cell_type": "markdown",
      "source": [
        "*In this project, the target variable for prediction is the \"Adaptivity Level\" of students to online education. This variable encapsulates the essence of the study, aiming to classify students based on their adaptability to the digital learning environment. By accurately predicting these levels, which could range from low to high adaptability, educational institutions and stakeholders can tailor specific interventions and resources to meet the unique needs of each student.*\n",
        "\n",
        "*Recognizing and addressing these levels of adaptability are crucial, especially in the context of the increasing reliance on online education platforms. The ability to predict a student's adaptability level enables a proactive approach to education, ensuring that all students receive the support necessary to thrive in an online setting.*\n",
        "\n",
        "*This focus on the adaptability level as the target variable underscores the project's commitment to enhancing educational outcomes through data-driven insights, embodying a significant stride towards personalized and inclusive online learning experiences.*"
      ],
      "metadata": {
        "id": "J6PPwABv_rkA"
      }
    },
    {
      "cell_type": "markdown",
      "source": [
        "## **Exploratory Data Analysis and Data Preprocessing**\n",
        "\n",
        "As we dive into our project aimed at predicting how well students adapt to online learning, the first order of business is to take a close look at our main focus: the \"Adaptivity Level\" column in our dataset. This particular column is super important because it tells us about the different levels at which students are comfortable with online education, ranging from those who are just getting by to those who are totally nailing it.\n",
        "\n",
        "Before we get too far ahead, we need to make sure this column is in tip-top shape. That means checking if there are any missing pieces of information, which could throw a wrench in our analysis. Missing values are like missing pieces in a puzzle – you can still see the picture, but it’s just not complete.\n",
        "\n",
        "Next up, we're on the lookout for outliers. These are the values that stick out from the rest, kind of like finding a pineapple in a basket of apples. Sometimes they're just mistakes, but other times they might be telling us something important, so we have to figure out which is which.\n",
        "\n",
        "Lastly, we’ll comb through the dataset for any mistakes or mix-ups that could lead us astray. It’s all about making sure that when we say \"Adaptivity Level,\" we're all talking about the same thing, and it accurately reflects how students are doing with online learning.\n",
        "\n",
        "By taking care of these steps, we’re making sure our foundation is solid. It's a bit like detective work, ensuring that everything checks out before we move forward. This way, we can trust our findings and recommendations to really make sense for everyone involved, especially for the students and educators looking to make the most out of online education."
      ],
      "metadata": {
        "id": "h1OzkVtjMKZ4"
      }
    },
    {
      "cell_type": "code",
      "source": [
        "# Distribution of the target variable\n",
        "print(data['Adaptivity Level'].value_counts())\n",
        "print(\"\\n\")\n",
        "\n",
        "# Checking for missing values in the dataset\n",
        "print(data.isnull().sum())"
      ],
      "metadata": {
        "colab": {
          "base_uri": "https://localhost:8080/"
        },
        "id": "N94I31alP1QD",
        "outputId": "780049e4-6cbf-453a-f36d-726b0283abb0"
      },
      "execution_count": null,
      "outputs": [
        {
          "output_type": "stream",
          "name": "stdout",
          "text": [
            "Adaptivity Level\n",
            "Moderate    625\n",
            "Low         480\n",
            "High        100\n",
            "Name: count, dtype: int64\n",
            "\n",
            "\n",
            "Gender                 0\n",
            "Age                    0\n",
            "Education Level        0\n",
            "Institution Type       0\n",
            "IT Student             0\n",
            "Location               0\n",
            "Load-shedding          0\n",
            "Financial Condition    0\n",
            "Internet Type          0\n",
            "Network Type           0\n",
            "Class Duration         0\n",
            "Self Lms               0\n",
            "Device                 0\n",
            "Adaptivity Level       0\n",
            "dtype: int64\n"
          ]
        }
      ]
    },
    {
      "cell_type": "markdown",
      "source": [
        "**Handling Missing Values**\n",
        " With no missing values or outliers to worry about, we’re already a step ahead. This means that we can dive straight into understanding the nuances of our data without the preliminary cleanup that often takes up a significant amount of time.\n",
        "\n",
        "**Encoding Categorical Variables**\n",
        "To ensure our dataset is primed for the machine learning models we plan to deploy, it's essential to address the nature of categorical variables within our data. Given that the majority of machine learning algorithms necessitate numerical input for optimal performance, transforming these categorical variables into a numerical format becomes imperative. This conversion process, known as encoding, restructures categorical data into a model-ready format, thereby bridging the gap between the qualitative nature of our variables and the quantitative demands of our predictive models."
      ],
      "metadata": {
        "id": "3KxFzVRoaLPV"
      }
    },
    {
      "cell_type": "code",
      "source": [
        "# Identifying the categorical variables\n",
        "categorical_vars = data.select_dtypes(include=['object']).columns\n",
        "\n",
        "# Excluding the target variable 'Adaptivity Level' from encoding\n",
        "categorical_vars = categorical_vars.drop('Adaptivity Level')\n",
        "\n",
        "# To apply one-hot encoding\n",
        "data_encoded = pd.get_dummies(data, columns=categorical_vars, drop_first=True)\n",
        "\n",
        "# To verify the encoding\n",
        "print(data_encoded.head())\n"
      ],
      "metadata": {
        "colab": {
          "base_uri": "https://localhost:8080/"
        },
        "id": "1QnRsk0NQTDj",
        "outputId": "9c82460f-8b5a-4b90-8092-67ab1d82a773"
      },
      "execution_count": null,
      "outputs": [
        {
          "output_type": "stream",
          "name": "stdout",
          "text": [
            "  Adaptivity Level  Gender_Girl  Age_11-15  Age_16-20  Age_21-25  Age_26-30  \\\n",
            "0         Moderate        False      False      False       True      False   \n",
            "1         Moderate         True      False      False       True      False   \n",
            "2         Moderate         True      False       True      False      False   \n",
            "3         Moderate         True       True      False      False      False   \n",
            "4              Low         True      False       True      False      False   \n",
            "\n",
            "   Age_6-10  Education Level_School  Education Level_University  \\\n",
            "0     False                   False                        True   \n",
            "1     False                   False                        True   \n",
            "2     False                   False                       False   \n",
            "3     False                    True                       False   \n",
            "4     False                    True                       False   \n",
            "\n",
            "   Institution Type_Non Government  ...  Financial Condition_Poor  \\\n",
            "0                             True  ...                     False   \n",
            "1                             True  ...                     False   \n",
            "2                            False  ...                     False   \n",
            "3                             True  ...                     False   \n",
            "4                             True  ...                      True   \n",
            "\n",
            "   Financial Condition_Rich  Internet Type_Wifi  Network Type_3G  \\\n",
            "0                     False                True            False   \n",
            "1                     False               False            False   \n",
            "2                     False                True            False   \n",
            "3                     False               False            False   \n",
            "4                     False               False             True   \n",
            "\n",
            "   Network Type_4G  Class Duration_1-3  Class Duration_3-6  Self Lms_Yes  \\\n",
            "0             True               False                True         False   \n",
            "1             True                True               False          True   \n",
            "2             True                True               False         False   \n",
            "3             True                True               False         False   \n",
            "4            False               False               False         False   \n",
            "\n",
            "   Device_Mobile  Device_Tab  \n",
            "0          False        True  \n",
            "1           True       False  \n",
            "2           True       False  \n",
            "3           True       False  \n",
            "4           True       False  \n",
            "\n",
            "[5 rows x 23 columns]\n"
          ]
        }
      ]
    },
    {
      "cell_type": "markdown",
      "source": [
        "We're diving into our data with some cool visuals to see what’s really going on. Here, we use charts and graphs to spot clues about how different things (like study habits or tech access) might make students better at handling online classes. It’s kind of like finding hidden stories in our data that we wouldn’t notice just by looking at numbers in a spreadsheet.\n",
        "\n",
        "By mapping out these features against how well students adapt to learning online, we're not just guessing; we're actually seeing which bits matter most. Maybe it’s something obvious, like having a reliable internet connection, or something we didn’t think of before. By the end, we’ll have a bunch of insights that could help make online learning a better experience for everyone. Plus, it’s a fun way to dig into our data and see what stories it has to tell us."
      ],
      "metadata": {
        "id": "j42Ul4aacC-Y"
      }
    },
    {
      "cell_type": "code",
      "source": [
        "import seaborn as sns\n",
        "import matplotlib.pyplot as plt\n",
        "\n",
        "# To represent the Adaptability Level by Gender\n",
        "plt.figure(figsize=(10, 6))\n",
        "sns.countplot(x='Gender', hue='Adaptivity Level', data=data)\n",
        "plt.title('Adaptivity Level Distribution by Gender')\n",
        "plt.show()\n"
      ],
      "metadata": {
        "colab": {
          "base_uri": "https://localhost:8080/",
          "height": 564
        },
        "id": "fOR9BVFpc2Xf",
        "outputId": "d03c5691-c70c-4ff8-81b9-65e323b5386f"
      },
      "execution_count": null,
      "outputs": [
        {
          "output_type": "display_data",
          "data": {
            "text/plain": [
              "<Figure size 1000x600 with 1 Axes>"
            ],
            "image/png": "[encoded data removed]"
          },
          "metadata": {}
        }
      ]
    },
    {
      "cell_type": "code",
      "source": [
        "# To represent the distribution of Age across different adaptability levels\n",
        "plt.figure(figsize=(10, 6))\n",
        "sns.boxplot(x='Adaptivity Level', y='Age', data=data)\n",
        "plt.title('Age Distribution Across Adaptivity Levels')\n",
        "plt.show()\n"
      ],
      "metadata": {
        "colab": {
          "base_uri": "https://localhost:8080/",
          "height": 564
        },
        "id": "QEog7ywJc-2E",
        "outputId": "5fa18b4e-bf15-48e4-f1a0-a7370a96ef61"
      },
      "execution_count": null,
      "outputs": [
        {
          "output_type": "display_data",
          "data": {
            "text/plain": [
              "<Figure size 1000x600 with 1 Axes>"
            ],
            "image/png": "[encoded data removed]"
          },
          "metadata": {}
        }
      ]
    },
    {
      "cell_type": "code",
      "source": [
        "# To represent the Proportion of Students by Education Level\n",
        "education_levels = data['Education Level'].value_counts()\n",
        "plt.figure(figsize=(8, 8))\n",
        "plt.pie(education_levels, labels=education_levels.index, autopct='%1.1f%%', startangle=140)\n",
        "plt.title('Distribution of Education Levels')\n",
        "plt.show()\n"
      ],
      "metadata": {
        "colab": {
          "base_uri": "https://localhost:8080/",
          "height": 675
        },
        "id": "_afhHtpTdO5b",
        "outputId": "2d1420ce-2768-4a56-85ca-62507ea4ba3d"
      },
      "execution_count": null,
      "outputs": [
        {
          "output_type": "display_data",
          "data": {
            "text/plain": [
              "<Figure size 800x800 with 1 Axes>"
            ],
            "image/png": "[encoded data removed]"
          },
          "metadata": {}
        }
      ]
    },
    {
      "cell_type": "markdown",
      "source": [
        "Together, these visualizations can provide a comprehensive view of how different features influence student adaptability."
      ],
      "metadata": {
        "id": "YhUwvi4jd6vv"
      }
    },
    {
      "cell_type": "markdown",
      "source": [
        "### **Splitting the Dataset**\n",
        "To ensure our model can handle new challenges beyond what it's already seen, we're splitting our data into two parts: one for training the model and the other for testing it. This step is like giving our model a final exam, where the test set is the ultimate check on how well it's learned and how it performs in the real world."
      ],
      "metadata": {
        "id": "0CjoDZuDeU7t"
      }
    },
    {
      "cell_type": "code",
      "source": [
        "from sklearn.model_selection import train_test_split\n",
        "\n",
        "# Separate features and target variable\n",
        "X = data_encoded.drop('Adaptivity Level', axis=1)\n",
        "y = data_encoded['Adaptivity Level']\n",
        "\n",
        "# Split the data into training and test sets\n",
        "X_train, X_test, y_train, y_test = train_test_split(X, y, test_size=0.2, random_state=42)\n",
        "\n",
        "# Check the size of each set\n",
        "print(\"Training set size:\", X_train.shape)\n",
        "print(\"Test set size:\", X_test.shape)\n"
      ],
      "metadata": {
        "colab": {
          "base_uri": "https://localhost:8080/"
        },
        "id": "YxnHTa-NQWJ2",
        "outputId": "7b085724-5b82-4857-e23f-ad046c998e59"
      },
      "execution_count": null,
      "outputs": [
        {
          "output_type": "stream",
          "name": "stdout",
          "text": [
            "Training set size: (964, 22)\n",
            "Test set size: (241, 22)\n"
          ]
        }
      ]
    },
    {
      "cell_type": "markdown",
      "source": [
        "## **Model Selection, Training and Evaluation**\n",
        "\n",
        "## **Logistic Regression:**\n",
        "\n",
        "As our task is to predict the Adaptivity Level, which is a categorical feature, we can start with Logistic regression, taking into account the model's simplicity and interpretability for classification problems."
      ],
      "metadata": {
        "id": "Z92WbnQvgi5u"
      }
    },
    {
      "cell_type": "code",
      "source": [
        "from sklearn.linear_model import LogisticRegression\n",
        "from sklearn.metrics import accuracy_score, classification_report\n",
        "\n",
        "# Logistic Regression model - Initialization\n",
        "model = LogisticRegression(max_iter=1000, random_state=42)\n",
        "\n",
        "# Training the model\n",
        "model.fit(X_train, y_train)\n"
      ],
      "metadata": {
        "colab": {
          "base_uri": "https://localhost:8080/",
          "height": 74
        },
        "id": "xFDlvGBTQ2UZ",
        "outputId": "9aecf793-877e-4ff1-c186-62777ca516dd"
      },
      "execution_count": null,
      "outputs": [
        {
          "output_type": "execute_result",
          "data": {
            "text/plain": [
              "LogisticRegression(max_iter=1000, random_state=42)"
            ],
            "text/html": [
              "<style>#sk-container-id-3 {color: black;background-color: white;}#sk-container-id-3 pre{padding: 0;}#sk-container-id-3 div.sk-toggleable {background-color: white;}#sk-container-id-3 label.sk-toggleable__label {cursor: pointer;display: block;width: 100%;margin-bottom: 0;padding: 0.3em;box-sizing: border-box;text-align: center;}#sk-container-id-3 label.sk-toggleable__label-arrow:before {content: \"▸\";float: left;margin-right: 0.25em;color: #696969;}#sk-container-id-3 label.sk-toggleable__label-arrow:hover:before {color: black;}#sk-container-id-3 div.sk-estimator:hover label.sk-toggleable__label-arrow:before {color: black;}#sk-container-id-3 div.sk-toggleable__content {max-height: 0;max-width: 0;overflow: hidden;text-align: left;background-color: #f0f8ff;}#sk-container-id-3 div.sk-toggleable__content pre {margin: 0.2em;color: black;border-radius: 0.25em;background-color: #f0f8ff;}#sk-container-id-3 input.sk-toggleable__control:checked~div.sk-toggleable__content {max-height: 200px;max-width: 100%;overflow: auto;}#sk-container-id-3 input.sk-toggleable__control:checked~label.sk-toggleable__label-arrow:before {content: \"▾\";}#sk-container-id-3 div.sk-estimator input.sk-toggleable__control:checked~label.sk-toggleable__label {background-color: #d4ebff;}#sk-container-id-3 div.sk-label input.sk-toggleable__control:checked~label.sk-toggleable__label {background-color: #d4ebff;}#sk-container-id-3 input.sk-hidden--visually {border: 0;clip: rect(1px 1px 1px 1px);clip: rect(1px, 1px, 1px, 1px);height: 1px;margin: -1px;overflow: hidden;padding: 0;position: absolute;width: 1px;}#sk-container-id-3 div.sk-estimator {font-family: monospace;background-color: #f0f8ff;border: 1px dotted black;border-radius: 0.25em;box-sizing: border-box;margin-bottom: 0.5em;}#sk-container-id-3 div.sk-estimator:hover {background-color: #d4ebff;}#sk-container-id-3 div.sk-parallel-item::after {content: \"\";width: 100%;border-bottom: 1px solid gray;flex-grow: 1;}#sk-container-id-3 div.sk-label:hover label.sk-toggleable__label {background-color: #d4ebff;}#sk-container-id-3 div.sk-serial::before {content: \"\";position: absolute;border-left: 1px solid gray;box-sizing: border-box;top: 0;bottom: 0;left: 50%;z-index: 0;}#sk-container-id-3 div.sk-serial {display: flex;flex-direction: column;align-items: center;background-color: white;padding-right: 0.2em;padding-left: 0.2em;position: relative;}#sk-container-id-3 div.sk-item {position: relative;z-index: 1;}#sk-container-id-3 div.sk-parallel {display: flex;align-items: stretch;justify-content: center;background-color: white;position: relative;}#sk-container-id-3 div.sk-item::before, #sk-container-id-3 div.sk-parallel-item::before {content: \"\";position: absolute;border-left: 1px solid gray;box-sizing: border-box;top: 0;bottom: 0;left: 50%;z-index: -1;}#sk-container-id-3 div.sk-parallel-item {display: flex;flex-direction: column;z-index: 1;position: relative;background-color: white;}#sk-container-id-3 div.sk-parallel-item:first-child::after {align-self: flex-end;width: 50%;}#sk-container-id-3 div.sk-parallel-item:last-child::after {align-self: flex-start;width: 50%;}#sk-container-id-3 div.sk-parallel-item:only-child::after {width: 0;}#sk-container-id-3 div.sk-dashed-wrapped {border: 1px dashed gray;margin: 0 0.4em 0.5em 0.4em;box-sizing: border-box;padding-bottom: 0.4em;background-color: white;}#sk-container-id-3 div.sk-label label {font-family: monospace;font-weight: bold;display: inline-block;line-height: 1.2em;}#sk-container-id-3 div.sk-label-container {text-align: center;}#sk-container-id-3 div.sk-container {/* jupyter's `normalize.less` sets `[hidden] { display: none; }` but bootstrap.min.css set `[hidden] { display: none !important; }` so we also need the `!important` here to be able to override the default hidden behavior on the sphinx rendered scikit-learn.org. See: https://github.com/scikit-learn/scikit-learn/issues/21755 */display: inline-block !important;position: relative;}#sk-container-id-3 div.sk-text-repr-fallback {display: none;}</style><div id=\"sk-container-id-3\" class=\"sk-top-container\"><div class=\"sk-text-repr-fallback\"><pre>LogisticRegression(max_iter=1000, random_state=42)</pre><b>In a Jupyter environment, please rerun this cell to show the HTML representation or trust the notebook. <br />On GitHub, the HTML representation is unable to render, please try loading this page with nbviewer.org.</b></div><div class=\"sk-container\" hidden><div class=\"sk-item\"><div class=\"sk-estimator sk-toggleable\"><input class=\"sk-toggleable__control sk-hidden--visually\" id=\"sk-estimator-id-3\" type=\"checkbox\" checked><label for=\"sk-estimator-id-3\" class=\"sk-toggleable__label sk-toggleable__label-arrow\">LogisticRegression</label><div class=\"sk-toggleable__content\"><pre>LogisticRegression(max_iter=1000, random_state=42)</pre></div></div></div></div></div>"
            ]
          },
          "metadata": {},
          "execution_count": 37
        }
      ]
    },
    {
      "cell_type": "code",
      "source": [
        "# To make predictions on the test set\n",
        "y_pred = model.predict(X_test)\n",
        "\n",
        "# To evaluate the model\n",
        "accuracy = accuracy_score(y_test, y_pred)\n",
        "print(f\"Accuracy: {accuracy:.4f}\")\n",
        "print(\"\\nClassification Report:\\n\", classification_report(y_test, y_pred))\n"
      ],
      "metadata": {
        "colab": {
          "base_uri": "https://localhost:8080/"
        },
        "id": "mGGFihizQ5ad",
        "outputId": "e0b13b44-50db-4ac2-f207-d3aa44acb6a3"
      },
      "execution_count": null,
      "outputs": [
        {
          "output_type": "stream",
          "name": "stdout",
          "text": [
            "Accuracy: 0.7261\n",
            "\n",
            "Classification Report:\n",
            "               precision    recall  f1-score   support\n",
            "\n",
            "        High       0.85      0.48      0.61        23\n",
            "         Low       0.76      0.66      0.70       103\n",
            "    Moderate       0.70      0.83      0.76       115\n",
            "\n",
            "    accuracy                           0.73       241\n",
            "   macro avg       0.77      0.66      0.69       241\n",
            "weighted avg       0.74      0.73      0.72       241\n",
            "\n"
          ]
        }
      ]
    },
    {
      "cell_type": "markdown",
      "source": [
        "The performance is a solid starting point, with an overall accuracy of 72.61%. This suggests that the Logistic Regression model is capable of reasonably predicting the adaptability level of students to online education.\n",
        "The classification report provides more detailed insights into the model's performance across the different classes:\n",
        "\n",
        "The model performs best in predicting the \"High\" adaptability level in terms of precision (the ability to correctly identify positive instances), but the recall (the ability to find all positive instances) for this class is lower. This indicates that while the predictions made for \"High\" adaptability are usually correct, the model misses a significant number of \"High\" cases.\n",
        "The \"Low\" and \"Moderate\" classes show a better balance between precision and recall, with \"Moderate\" having the highest recall, suggesting the model is more effective at identifying students with a \"Moderate\" level of adaptability."
      ],
      "metadata": {
        "id": "_JLFS3ZAikQS"
      }
    },
    {
      "cell_type": "markdown",
      "source": [
        "### **Hyperparameter tuning for Logistic Regression:**"
      ],
      "metadata": {
        "id": "PI1FqB_5357w"
      }
    },
    {
      "cell_type": "code",
      "source": [
        "from sklearn.model_selection import GridSearchCV\n",
        "from sklearn.linear_model import LogisticRegression\n",
        "\n",
        "# Define the parameter grid\n",
        "param_grid_lr = {\n",
        "    'C': [0.001, 0.01, 0.1, 1, 10, 100],\n",
        "    'penalty': ['l2']\n",
        "}\n",
        "\n",
        "# Initialize the GridSearchCV object\n",
        "grid_lr = GridSearchCV(LogisticRegression(max_iter=10000), param_grid_lr, cv=5, scoring='accuracy')\n",
        "\n",
        "# Fit it to the training data\n",
        "grid_lr.fit(X_train, y_train)\n",
        "\n",
        "# Print the best parameters and the best score\n",
        "print(\"Best parameters for Logistic Regression:\", grid_lr.best_params_)\n",
        "print(\"Best score for Logistic Regression:\", grid_lr.best_score_)\n"
      ],
      "metadata": {
        "colab": {
          "base_uri": "https://localhost:8080/"
        },
        "id": "n2v2sPJQ35RP",
        "outputId": "856bf525-3b39-4bd6-adaa-4d237e3ddaa0"
      },
      "execution_count": null,
      "outputs": [
        {
          "output_type": "stream",
          "name": "stdout",
          "text": [
            "Best parameters for Logistic Regression: {'C': 1, 'penalty': 'l2'}\n",
            "Best score for Logistic Regression: 0.7116040587219343\n"
          ]
        }
      ]
    },
    {
      "cell_type": "markdown",
      "source": [
        "*The best parameters found were {'C': 1, 'penalty': 'l2'} with a cross-validation score of approximately 0.7116.*"
      ],
      "metadata": {
        "id": "wplzyLOr7RVS"
      }
    },
    {
      "cell_type": "markdown",
      "source": [
        "## **Model Training and Evaluation - With more complex models**"
      ],
      "metadata": {
        "id": "YT-UdmV0hpF2"
      }
    },
    {
      "cell_type": "markdown",
      "source": [
        "## **1. Decision Tree Model**"
      ],
      "metadata": {
        "id": "xnsOxv2p-SXp"
      }
    },
    {
      "cell_type": "code",
      "source": [
        "# Decision Tree Model\n",
        "\n",
        "\n",
        "from sklearn.tree import DecisionTreeClassifier\n",
        "\n",
        "# Initializing the Decision Tree model\n",
        "dt_model = DecisionTreeClassifier(random_state=42)\n",
        "\n",
        "# Training the model\n",
        "dt_model.fit(X_train, y_train)\n",
        "\n",
        "# Making predictions on the test set\n",
        "y_pred_dt = dt_model.predict(X_test)\n",
        "\n",
        "# Evaluating the model\n",
        "print(\"Decision Tree Accuracy:\", accuracy_score(y_test, y_pred_dt))\n",
        "print(\"Classification Report:\\n\", classification_report(y_test, y_pred_dt))\n"
      ],
      "metadata": {
        "colab": {
          "base_uri": "https://localhost:8080/"
        },
        "id": "Mc3x9nmMRqD2",
        "outputId": "c58ff3c8-3425-4ff1-e8eb-0fc1f8c2a9bc"
      },
      "execution_count": null,
      "outputs": [
        {
          "output_type": "stream",
          "name": "stdout",
          "text": [
            "Decision Tree Accuracy: 0.9045643153526971\n",
            "Classification Report:\n",
            "               precision    recall  f1-score   support\n",
            "\n",
            "        High       0.88      0.65      0.75        23\n",
            "         Low       0.92      0.94      0.93       103\n",
            "    Moderate       0.90      0.92      0.91       115\n",
            "\n",
            "    accuracy                           0.90       241\n",
            "   macro avg       0.90      0.84      0.86       241\n",
            "weighted avg       0.90      0.90      0.90       241\n",
            "\n"
          ]
        }
      ]
    },
    {
      "cell_type": "markdown",
      "source": [
        "### **Hyperparameter tuning for Decision tree Classifier model:**"
      ],
      "metadata": {
        "id": "kzrL3MTG4oeK"
      }
    },
    {
      "cell_type": "code",
      "source": [
        "from sklearn.tree import DecisionTreeClassifier\n",
        "\n",
        "# Define the parameter grid\n",
        "param_grid_dt = {\n",
        "    'max_depth': [None, 10, 20, 30],\n",
        "    'min_samples_split': [2, 5, 10],\n",
        "    'min_samples_leaf': [1, 2, 4]\n",
        "}\n",
        "\n",
        "# Initialize the GridSearchCV object\n",
        "grid_dt = GridSearchCV(DecisionTreeClassifier(), param_grid_dt, cv=5, scoring='accuracy')\n",
        "\n",
        "# Fit it to the training data\n",
        "grid_dt.fit(X_train, y_train)\n",
        "\n",
        "# Print the best parameters and the best score\n",
        "print(\"Best parameters for Decision Tree:\", grid_dt.best_params_)\n",
        "print(\"Best score for Decision Tree:\", grid_dt.best_score_)\n"
      ],
      "metadata": {
        "colab": {
          "base_uri": "https://localhost:8080/"
        },
        "id": "hoNCxVO63vcA",
        "outputId": "1984d29f-47bd-489d-8642-111a0fb8079c"
      },
      "execution_count": null,
      "outputs": [
        {
          "output_type": "stream",
          "name": "stdout",
          "text": [
            "Best parameters for Decision Tree: {'max_depth': None, 'min_samples_leaf': 1, 'min_samples_split': 2}\n",
            "Best score for Decision Tree: 0.9014572538860104\n"
          ]
        }
      ]
    },
    {
      "cell_type": "markdown",
      "source": [
        "*Achieved a best score of 0.9014 with parameters {'max_depth': None, 'min_samples_leaf': 1, 'min_samples_split': 2}. This model shows a significant improvement over Logistic Regression and indicates a good fit to the data without being overly complex.*"
      ],
      "metadata": {
        "id": "Z7TBVfum7d_H"
      }
    },
    {
      "cell_type": "markdown",
      "source": [
        "## **2. Random Forest Model**"
      ],
      "metadata": {
        "id": "wxQwAfd75ajT"
      }
    },
    {
      "cell_type": "code",
      "source": [
        "# Random Forest model\n",
        "\n",
        "\n",
        "from sklearn.ensemble import RandomForestClassifier\n",
        "\n",
        "# Initializing the Random Forest model\n",
        "rf_model = RandomForestClassifier(random_state=42)\n",
        "\n",
        "# Training the model\n",
        "rf_model.fit(X_train, y_train)\n",
        "\n",
        "# Making predictions on the test set\n",
        "y_pred_rf = rf_model.predict(X_test)\n",
        "\n",
        "# Evaluating the model\n",
        "print(\"Random Forest Accuracy:\", accuracy_score(y_test, y_pred_rf))\n",
        "print(\"Classification Report:\\n\", classification_report(y_test, y_pred_rf))\n"
      ],
      "metadata": {
        "colab": {
          "base_uri": "https://localhost:8080/"
        },
        "id": "ll30Kb4PRtjd",
        "outputId": "97b562fc-586f-488b-889a-6efce0e27520"
      },
      "execution_count": null,
      "outputs": [
        {
          "output_type": "stream",
          "name": "stdout",
          "text": [
            "Random Forest Accuracy: 0.9128630705394191\n",
            "Classification Report:\n",
            "               precision    recall  f1-score   support\n",
            "\n",
            "        High       0.88      0.65      0.75        23\n",
            "         Low       0.93      0.94      0.94       103\n",
            "    Moderate       0.90      0.94      0.92       115\n",
            "\n",
            "    accuracy                           0.91       241\n",
            "   macro avg       0.91      0.84      0.87       241\n",
            "weighted avg       0.91      0.91      0.91       241\n",
            "\n"
          ]
        }
      ]
    },
    {
      "cell_type": "markdown",
      "source": [
        "### **Hyperparameter Tuning for the Random Forest Classifier Model**\n",
        "The Random Forest method shows more potential than the Decision tree method and we can use Grid Search for tuning."
      ],
      "metadata": {
        "id": "xYEoz3_Zk9Jo"
      }
    },
    {
      "cell_type": "code",
      "source": [
        "from sklearn.model_selection import GridSearchCV\n",
        "\n",
        "# Definition of the parameter grid\n",
        "param_grid = {\n",
        "    'n_estimators': [50, 100, 200],\n",
        "    'max_depth': [None, 10, 20, 30],\n",
        "    'min_samples_split': [2, 5, 10]\n",
        "}\n",
        "\n",
        "# Initializing the Grid Search\n",
        "grid_search = GridSearchCV(estimator=rf_model, param_grid=param_grid, cv=5, scoring='accuracy', n_jobs=-1)\n",
        "\n",
        "# Performing the Grid Search\n",
        "grid_search.fit(X_train, y_train)\n",
        "\n",
        "# Displaying the Best parameters and best score\n",
        "print(\"Best Parameters:\", grid_search.best_params_)\n",
        "print(\"Best Score:\", grid_search.best_score_)\n",
        "\n",
        "# To evaluate on the test set\n",
        "y_pred_gs = grid_search.predict(X_test)\n",
        "print(\"Tuned Random Forest Accuracy:\", accuracy_score(y_test, y_pred_gs))\n",
        "print(\"Classification Report:\\n\", classification_report(y_test, y_pred_gs))\n"
      ],
      "metadata": {
        "colab": {
          "base_uri": "https://localhost:8080/"
        },
        "id": "JFmCapyURy-9",
        "outputId": "69ff1650-29a2-46ea-db93-6885787f2f56"
      },
      "execution_count": null,
      "outputs": [
        {
          "output_type": "stream",
          "name": "stdout",
          "text": [
            "Best Parameters: {'max_depth': None, 'min_samples_split': 2, 'n_estimators': 100}\n",
            "Best Score: 0.9056131260794473\n",
            "Tuned Random Forest Accuracy: 0.9128630705394191\n",
            "Classification Report:\n",
            "               precision    recall  f1-score   support\n",
            "\n",
            "        High       0.88      0.65      0.75        23\n",
            "         Low       0.93      0.94      0.94       103\n",
            "    Moderate       0.90      0.94      0.92       115\n",
            "\n",
            "    accuracy                           0.91       241\n",
            "   macro avg       0.91      0.84      0.87       241\n",
            "weighted avg       0.91      0.91      0.91       241\n",
            "\n"
          ]
        }
      ]
    },
    {
      "cell_type": "markdown",
      "source": [
        "*The best parameters were found to be {'max_depth': None, 'min_samples_split': 2, 'n_estimators': 100}, yielding a best score of 0.9056 and an accuracy of 0.9129 on the test set. The Random Forest model, with these parameters, not only outperforms the Logistic Regression model but also slightly edges out the Decision Tree model, offering the highest precision, recall, and F1 scores across the adaptability levels.*"
      ],
      "metadata": {
        "id": "tnTO73ff7q1F"
      }
    },
    {
      "cell_type": "markdown",
      "source": [
        "### **Takeaways from the Outputs:**\n",
        "**High Overall Accuracy:** Both the Decision Tree and Random Forest models achieved high accuracy scores, with Random Forest slightly outperforming the Decision Tree.\n",
        "\n",
        "**Balanced Performance Across Classes:** Both the models performed well across the different adaptability levels, not just on the most prevalent class.\n",
        "\n",
        "**Random Forest as the Preferred Model:** Having in account its slightly higher accuracy and balanced performance across classes, the Random Forest Classifier is the preferred model for this task."
      ],
      "metadata": {
        "id": "g85i195ikMaZ"
      }
    },
    {
      "cell_type": "markdown",
      "source": [
        "## **Project Summary**\n",
        "\n",
        "**Objective:**\n",
        "\n",
        "The goal of this project was to accurately predict students' adaptability levels to online education. By leveraging features related to demographics, socioeconomic status, and technology access, the project aimed to facilitate targeted educational interventions, thereby enhancing learning outcomes.\n",
        "\n",
        "**Data Preprocessing:**\n",
        "\n",
        "The dataset underwent thorough preprocessing, including checking for missing values and encoding categorical variables into a format compatible with machine learning algorithms. This ensured a clean and well-structured dataset. The data was then split into training and test sets, setting the stage for unbiased model evaluation.\n",
        "\n",
        "\n",
        "**Model Exploration and Hyperparameter Tuning:**\n",
        "\n",
        "Logistic Regression served as the baseline model, providing an initial accuracy metric for comparison. Hyperparameter tuning revealed {'C': 1, 'penalty': 'l2'} as the best parameters.\n",
        "\n",
        "Decision Tree models significantly outperformed the Logistic Regression baseline, with hyperparameter tuning identifying {'max_depth': None, 'min_samples_leaf': 1, 'min_samples_split': 2} as optimal settings. This indicated the model's capacity to capture complex data patterns without overfitting.\n",
        "\n",
        "Random Forest models, following tuning, demonstrated the highest level of accuracy, precision, and recall. The best parameters were {'max_depth': None, 'min_samples_split': 2, 'n_estimators': 100}, culminating in an accuracy of approximately 91.29%. The tuning process underscored the Random Forest model's robustness and its efficacy in handling the dataset's nuances.\n",
        "\n",
        "**Model Performance:**\n",
        "\n",
        "The project's comparative analysis of models post-tuning underscored the Random Forest Classifier's superior performance. It not only exhibited the highest accuracy but also maintained a balanced performance across adaptability levels, showcasing its effectiveness in predicting student adaptability to online education.\n",
        "\n",
        "**Conclusion and Enhanced Recommendation:**\n",
        "\n",
        "Based on comprehensive model training and meticulous hyperparameter tuning, the Random Forest Classifier was reaffirmed as the optimal model for this application. The insights gained from tuning further validated its selection, demonstrating a nuanced understanding of the model's interaction with the dataset. This model's standout ability to address complex, nonlinear relationships between features—coupled with its high accuracy and balanced class performance—makes it exceptionally suited for enhancing educational interventions."
      ],
      "metadata": {
        "id": "SO8b_faNmov6"
      }
    },
    {
      "cell_type": "code",
      "source": [
        "!jupyter nbconvert --to html ML_Pipeline.ipynb"
      ],
      "metadata": {
        "id": "Z-98aDrLeRdk",
        "outputId": "89abb3ba-7b42-4327-f19e-f1b2a05c2bcb",
        "colab": {
          "base_uri": "https://localhost:8080/"
        }
      },
      "execution_count": null,
      "outputs": [
        {
          "output_type": "stream",
          "name": "stdout",
          "text": [
            "[NbConvertApp] Converting notebook ML_Pipeline.ipynb to html\n",
            "[NbConvertApp] Writing 745097 bytes to ML_Pipeline.html\n"
          ]
        }
      ]
    }
  ]
}