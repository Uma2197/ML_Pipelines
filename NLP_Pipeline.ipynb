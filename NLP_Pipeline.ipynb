{
  "nbformat": 4,
  "nbformat_minor": 0,
  "metadata": {
    "colab": {
      "provenance": []
    },
    "kernelspec": {
      "name": "python3",
      "display_name": "Python 3"
    },
    "language_info": {
      "name": "python"
    }
  },
  "cells": [
    {
      "cell_type": "markdown",
      "source": [
        "# M508 Big Data Analytics - NLP Pipeline for Sentiment Analysis and Topic Modelling on the dataset that has Customer reviews of an e-commerce women's clothing."
      ],
      "metadata": {
        "id": "tHiVBNq137mS"
      }
    },
    {
      "cell_type": "markdown",
      "source": [
        "Name: Umamaheswari Nagalingam\n",
        "\n",
        "Student ID : GH1029248\n",
        "\n",
        "About the dataset:\n",
        "Dataset URL : https://www.kaggle.com/datasets/mexwell/womens-e-commerce-clothing-reviews"
      ],
      "metadata": {
        "id": "iD2WCf-kvmoZ"
      }
    },
    {
      "cell_type": "markdown",
      "source": [
        "Business Problem:\n",
        "\n",
        "The customer reviews for women's e-commerce cloting has to be analyzed to gain insights about the customer satisfaction, and to improve the overall shopping experience. In order to identify the strengths and weaknesses in the products and services offered, understanding customer feedback is very important. By this, we can build better strategies and take better business decisions.\n",
        "\n",
        "This could benefit the company is some of the following aspects:\n",
        "\n",
        "1. Based on customer feedback and preference, product offerings can be enhanced.\n",
        "2. Customer satisfaction can be improved.\n",
        "3. More targeted marketing and promotional strategies can be applied.\n",
        "\n",
        "\n",
        "NLP Task Formulation:\n",
        "\n",
        "This problem can be formulated as sentiment analysis task, which is basically to classify the customer reviews into positive, negative or neutral statements. Also, topic related reviews can also be segregated to better understand the customer opinions. This can be done by Topic modelling."
      ],
      "metadata": {
        "id": "vGEbAniywOk4"
      }
    },
    {
      "cell_type": "markdown",
      "source": [
        "System Design:\n",
        "\n",
        "Components of the System:\n",
        "Data Preprocessing -> Text Vectorization -> Sentiment Analysis model -> Topic modelling -> Evaluation -> Visualization and reporting."
      ],
      "metadata": {
        "id": "eJSumH-sykUs"
      }
    },
    {
      "cell_type": "markdown",
      "source": [
        "# Input Data\n",
        "\n",
        "Importing the necessary libraries that are required to perform data manipulation, text processing, machine learning and visualization. The data containing the customer reviews of women's clothing from an e-commerce platform is then loaded and explored a bit for understanding its structure."
      ],
      "metadata": {
        "id": "WCpaHKA5so2E"
      }
    },
    {
      "cell_type": "code",
      "execution_count": 1,
      "metadata": {
        "colab": {
          "base_uri": "https://localhost:8080/"
        },
        "id": "dQyj9kYeyWlH",
        "outputId": "0d8bd140-3892-42f4-f612-ed6c146238fd"
      },
      "outputs": [
        {
          "output_type": "stream",
          "name": "stdout",
          "text": [
            "   Unnamed: 0  Clothing.ID  Age                    Title  \\\n",
            "0           1          767   33                      NaN   \n",
            "1           2         1080   34                      NaN   \n",
            "2           3         1077   60  Some major design flaws   \n",
            "3           4         1049   50         My favorite buy!   \n",
            "4           5          847   47         Flattering shirt   \n",
            "\n",
            "                                         Review.Text  Rating  Recommended.IND  \\\n",
            "0  Absolutely wonderful - silky and sexy and comf...       4                1   \n",
            "1  Love this dress!  it's sooo pretty.  i happene...       5                1   \n",
            "2  I had such high hopes for this dress and reall...       3                0   \n",
            "3  I love, love, love this jumpsuit. it's fun, fl...       5                1   \n",
            "4  This shirt is very flattering to all due to th...       5                1   \n",
            "\n",
            "   Positive.Feedback.Count   Division.Name Department.Name Class.Name  \n",
            "0                        0       Initmates        Intimate  Intimates  \n",
            "1                        4         General         Dresses    Dresses  \n",
            "2                        0         General         Dresses    Dresses  \n",
            "3                        0  General Petite         Bottoms      Pants  \n",
            "4                        6         General            Tops    Blouses  \n"
          ]
        }
      ],
      "source": [
        "# Importing the libraries  that'll be made use in the pipeline\n",
        "import pandas as pd\n",
        "import numpy as np\n",
        "import re\n",
        "import string\n",
        "from sklearn.feature_extraction.text import TfidfVectorizer, ENGLISH_STOP_WORDS\n",
        "from sklearn.model_selection import train_test_split\n",
        "from sklearn.linear_model import LogisticRegression\n",
        "from sklearn.metrics import accuracy_score, precision_score, recall_score, f1_score\n",
        "from sklearn.decomposition import LatentDirichletAllocation\n",
        "import matplotlib.pyplot as plt\n",
        "\n",
        "# Loading the dataset and viewing first few rows to get an idea about it\n",
        "file_path = '/content/drive/MyDrive/Women_s_E-Commerce_Clothing_Reviews_1594_1.csv'\n",
        "data = pd.read_csv(file_path, delimiter=';')\n",
        "print(data.head())"
      ]
    },
    {
      "cell_type": "markdown",
      "source": [
        "# Data Preprocessing\n",
        "\n",
        "Here, we are converting the text data from Review.Text column into strings to ensure consistency. The review text is now being cleaned and normalized with a text preprocessing function. It involves converting the text to lowercase, removal of punctuation marks if any, stripping off white spaces, and removing extra white spaces, etc.\n",
        "\n",
        "We're creating a new column called Processed_Review_Text to store the processed text, and are going to display the first few rows to verify this preprocessing."
      ],
      "metadata": {
        "id": "bsflrElewQn1"
      }
    },
    {
      "cell_type": "code",
      "source": [
        "# Data Preprocessing\n",
        "# Converting all entries in the Review.Text column to strings\n",
        "data['Review.Text'] = data['Review.Text'].astype(str)\n",
        "\n",
        "# Normalizing text\n",
        "def preprocess_text(text):\n",
        "    text = text.lower()\n",
        "    text = text.translate(str.maketrans('', '', string.punctuation))\n",
        "    text = re.sub(r'\\d+', '', text)\n",
        "    text = text.strip()\n",
        "    tokens = text.split()\n",
        "    stop_words = set(ENGLISH_STOP_WORDS)\n",
        "    tokens = [word for word in tokens if word not in stop_words]\n",
        "    return ' '.join(tokens)\n",
        "\n",
        "# Applying preprocessing to the Review.Text column\n",
        "data['Processed_Review_Text'] = data['Review.Text'].apply(preprocess_text)\n",
        "\n",
        "# Checking if the Processed_Review_Text column is created correctly\n",
        "print(data.columns)\n",
        "print(data[['Review.Text', 'Processed_Review_Text']].head())"
      ],
      "metadata": {
        "colab": {
          "base_uri": "https://localhost:8080/"
        },
        "id": "imq07lT-0rd1",
        "outputId": "0b4d2d34-5054-418e-af8e-aba0b67e62da"
      },
      "execution_count": 2,
      "outputs": [
        {
          "output_type": "stream",
          "name": "stdout",
          "text": [
            "Index(['Unnamed: 0', 'Clothing.ID', 'Age', 'Title', 'Review.Text', 'Rating',\n",
            "       'Recommended.IND', 'Positive.Feedback.Count', 'Division.Name',\n",
            "       'Department.Name', 'Class.Name', 'Processed_Review_Text'],\n",
            "      dtype='object')\n",
            "                                         Review.Text  \\\n",
            "0  Absolutely wonderful - silky and sexy and comf...   \n",
            "1  Love this dress!  it's sooo pretty.  i happene...   \n",
            "2  I had such high hopes for this dress and reall...   \n",
            "3  I love, love, love this jumpsuit. it's fun, fl...   \n",
            "4  This shirt is very flattering to all due to th...   \n",
            "\n",
            "                               Processed_Review_Text  \n",
            "0        absolutely wonderful silky sexy comfortable  \n",
            "1  love dress sooo pretty happened store im glad ...  \n",
            "2  high hopes dress really wanted work initially ...  \n",
            "3  love love love jumpsuit fun flirty fabulous ti...  \n",
            "4  shirt flattering adjustable tie perfect length...  \n"
          ]
        }
      ]
    },
    {
      "cell_type": "markdown",
      "source": [
        "# Text Vectorization\n",
        "\n",
        "Here, we are converting the processed text into numerical feature vectors using the TF-IDF(Term Frequency-Inverse Document Frequency) vectorizer. Basically the newly created column is transformed into a matrix, which is then converted into a DataFrame for better readability."
      ],
      "metadata": {
        "id": "7l7_IQCDyNJr"
      }
    },
    {
      "cell_type": "code",
      "source": [
        "# Text Vectorization\n",
        "tfidf_vectorizer = TfidfVectorizer(max_features=5000)\n",
        "\n",
        "X = tfidf_vectorizer.fit_transform(data['Processed_Review_Text'])\n",
        "tfidf_df = pd.DataFrame(X.toarray(), columns=tfidf_vectorizer.get_feature_names_out())\n",
        "\n",
        "# Displaying the first few rows of the TF-IDF DataFrame\n",
        "print(tfidf_df.head())"
      ],
      "metadata": {
        "colab": {
          "base_uri": "https://localhost:8080/"
        },
        "id": "ZR0U1e1X0vmX",
        "outputId": "f87b0f31-20ce-4174-b62e-eeea60782ab5"
      },
      "execution_count": 3,
      "outputs": [
        {
          "output_type": "stream",
          "name": "stdout",
          "text": [
            "    aa   ab  abdomen  ability  able  absolute  absolutely  abstract  abt  \\\n",
            "0  0.0  0.0      0.0      0.0   0.0       0.0    0.384864       0.0  0.0   \n",
            "1  0.0  0.0      0.0      0.0   0.0       0.0    0.000000       0.0  0.0   \n",
            "2  0.0  0.0      0.0      0.0   0.0       0.0    0.000000       0.0  0.0   \n",
            "3  0.0  0.0      0.0      0.0   0.0       0.0    0.000000       0.0  0.0   \n",
            "4  0.0  0.0      0.0      0.0   0.0       0.0    0.000000       0.0  0.0   \n",
            "\n",
            "   abundance  ...  zero       zip  zipped    zipper  zippered  zippers  \\\n",
            "0        0.0  ...   0.0  0.000000     0.0  0.000000       0.0      0.0   \n",
            "1        0.0  ...   0.0  0.000000     0.0  0.000000       0.0      0.0   \n",
            "2        0.0  ...   0.0  0.153044     0.0  0.134803       0.0      0.0   \n",
            "3        0.0  ...   0.0  0.000000     0.0  0.000000       0.0      0.0   \n",
            "4        0.0  ...   0.0  0.000000     0.0  0.000000       0.0      0.0   \n",
            "\n",
            "   zipping  zips  zone  zoom  \n",
            "0      0.0   0.0   0.0   0.0  \n",
            "1      0.0   0.0   0.0   0.0  \n",
            "2      0.0   0.0   0.0   0.0  \n",
            "3      0.0   0.0   0.0   0.0  \n",
            "4      0.0   0.0   0.0   0.0  \n",
            "\n",
            "[5 rows x 5000 columns]\n"
          ]
        }
      ]
    },
    {
      "cell_type": "markdown",
      "source": [
        "# Sentiment Analysis Model\n",
        "\n",
        "In this step, based on the \"Rating\" column, a new target variable - \"Sentiment\" is created. Ratings of 4 or 5 are considered positive (label 1) and others are considered negative (label 0).\n",
        "\n",
        "Training and test data are being split to evaluate the model's performance, a Logistic regression is initialized and trained on the training data.\n",
        "\n",
        "Following this, predictions are made on the test data and various evaluation metrics including accuracy, precision, recall and F1-score are calculated and displayed to assess the model's performance."
      ],
      "metadata": {
        "id": "F3HpIKqK0F6J"
      }
    },
    {
      "cell_type": "code",
      "source": [
        "# Sentiment Analysis Model\n",
        "data['Sentiment'] = data['Rating'].apply(lambda x: 1 if x >= 4 else 0)\n",
        "\n",
        "# Split the data into training and testing sets\n",
        "X_train, X_test, y_train, y_test = train_test_split(X, data['Sentiment'], test_size=0.2, random_state=42)\n",
        "\n",
        "model = LogisticRegression(max_iter=1000)\n",
        "\n",
        "# Training the model\n",
        "model.fit(X_train, y_train)\n",
        "\n",
        "y_pred = model.predict(X_test)\n",
        "\n",
        "# Evaluating the model\n",
        "accuracy = accuracy_score(y_test, y_pred)\n",
        "precision = precision_score(y_test, y_pred)\n",
        "recall = recall_score(y_test, y_pred)\n",
        "f1 = f1_score(y_test, y_pred)\n",
        "\n",
        "# Printing evaluation metrics\n",
        "print(f'Accuracy: {accuracy}')\n",
        "print(f'Precision: {precision}')\n",
        "print(f'Recall: {recall}')\n",
        "print(f'F1 Score: {f1}')"
      ],
      "metadata": {
        "colab": {
          "base_uri": "https://localhost:8080/"
        },
        "id": "ilD3tpg401Kj",
        "outputId": "a7208a81-21a5-4329-c935-534dc5e98196"
      },
      "execution_count": 4,
      "outputs": [
        {
          "output_type": "stream",
          "name": "stdout",
          "text": [
            "Accuracy: 0.8682418050234142\n",
            "Precision: 0.8769230769230769\n",
            "Recall: 0.9636917960088692\n",
            "F1 Score: 0.9182622474580747\n"
          ]
        }
      ]
    },
    {
      "cell_type": "markdown",
      "source": [
        "### Evaluation of Sentiment Analysis Model\n",
        "\n",
        "The achieved accuracy of the model is approx. 86.82%, which indicates that the sentiment of the customer reviews has been classified correctly for most of the times.\n",
        "\n",
        "The precision score is 87.69% which implies that the model is good in avoiding false positives.\n",
        "\n",
        "Recall is 96.37% which indicates that the model is capablr to capture nearly all true positive cases.\n",
        "\n",
        "F1 score is 91.83% balances precision and recall, this demonstrates the overall effectiveness and reliability of the sentiment analusis model.\n",
        "\n",
        "**What can be implied into business?**\n",
        "\n",
        "* Customer Satisfaction: The model's high accuracy and recall shows that the positive and negative customer sentiments can be identified by it, by which we gain insights into customer satisfaction levels product/service wise.\n",
        "\n",
        "* Service Improvement: Having identified the negative comments, improvement ideas and steps can be taken to improve the service quality.\n",
        "\n",
        "* Product development and marketing strategies: Popular products can be identified with the sentiment analysis, and focus can be turned towards the products/Services that needs development. Areas that has more positive results, can be targeted for marketing."
      ],
      "metadata": {
        "id": "LG1DfcKk5AqW"
      }
    },
    {
      "cell_type": "markdown",
      "source": [
        "# Topic Modelling\n",
        "\n",
        "Topic modelling on the TF-IDF matrix is performed by using the Latent Dirichlet Allocation (LDA) - To discover any hidden topics within the reviews.\n",
        "\n",
        "The top words for each topic are extracted and displayed to help interpret and label the topics."
      ],
      "metadata": {
        "id": "nqHkONBQ8J0K"
      }
    },
    {
      "cell_type": "code",
      "source": [
        "# Topic Modeling\n",
        "lda = LatentDirichletAllocation(n_components=5, random_state=42)\n",
        "\n",
        "# Fit the LDA model\n",
        "lda.fit(X)\n",
        "\n",
        "# Getting the top words for each topic\n",
        "def print_top_words(model, feature_names, n_top_words):\n",
        "    for topic_idx, topic in enumerate(model.components_):\n",
        "        print(f\"Topic #{topic_idx}:\")\n",
        "        print(\" \".join([feature_names[i] for i in topic.argsort()[:-n_top_words - 1:-1]]))\n",
        "    print()\n",
        "\n",
        "# Printing the top words\n",
        "tf_feature_names = tfidf_vectorizer.get_feature_names_out()\n",
        "print_top_words(lda, tf_feature_names, 10)"
      ],
      "metadata": {
        "colab": {
          "base_uri": "https://localhost:8080/"
        },
        "id": "suevAUku05yj",
        "outputId": "95cd3d37-466a-4c71-c262-703a990d5eff"
      },
      "execution_count": 5,
      "outputs": [
        {
          "output_type": "stream",
          "name": "stdout",
          "text": [
            "Topic #0:\n",
            "nan lounging hte socks robe definite sleeping jsut ask overalls\n",
            "Topic #1:\n",
            "love great dress wear jeans perfect comfortable fit size soft\n",
            "Topic #2:\n",
            "color beautiful love sweater dress great like fabric colors shirt\n",
            "Topic #3:\n",
            "dress size like fit im just fabric small love little\n",
            "Topic #4:\n",
            "size love small like wear dress ordered fit im just\n",
            "\n"
          ]
        }
      ]
    },
    {
      "cell_type": "markdown",
      "source": [
        "### Evaluation of Topic modelling\n",
        "\n",
        "We could see that the LDA model identified five topics:\n",
        "\n",
        "Topic #0: Focus on comfort and leisurewear like robes, socks, and overalls.\n",
        "\n",
        "Topic #1: Positive reviews of dresses and jeans, emphasizing comfort and perfect fit.\n",
        "\n",
        "Topic #2: Aesthetic qualities of clothing, highlighting beautiful colors and fabrics.\n",
        "\n",
        "Topic #3: Issues with dress sizes and fabric quality, mixing satisfaction and dissatisfaction.\n",
        "\n",
        "Topic #4: Sizing and fit concerns, especially for smaller sizes, with ordering experiences.\n",
        "\n",
        "\n",
        "All of these topics, in one way or other implies towards product development. These topics can be considered as more specific opinions about the products, which can definitely be used towards business development."
      ],
      "metadata": {
        "id": "mm37siZI_cBP"
      }
    },
    {
      "cell_type": "markdown",
      "source": [
        "# Visualization and Reporting\n",
        "\n",
        "The dataset is visualized to see the distribution of sentiments among it using a bar plot so that we can understand the overall sentiment trend in the reviews.\n",
        "\n",
        "The distribution of topics identified by the LDA model is visualized using a histogram. By this, the prevalance of each topic within the reviews can be seen."
      ],
      "metadata": {
        "id": "t8Sr2l9w_s1p"
      }
    },
    {
      "cell_type": "code",
      "source": [
        "# Visualization and Reporting\n",
        "# Plot sentiment distribution\n",
        "data['Sentiment'].value_counts().plot(kind='bar')\n",
        "plt.title('Sentiment Distribution')\n",
        "plt.xlabel('Sentiment')\n",
        "plt.ylabel('Count')\n",
        "plt.show()\n",
        "\n",
        "# Plot the distribution of topics\n",
        "topic_distribution = lda.transform(X)\n",
        "topic_counts = topic_distribution.argmax(axis=1)\n",
        "\n",
        "plt.hist(topic_counts, bins=range(lda.n_components + 1), align='left')\n",
        "plt.title('Topic Distribution')\n",
        "plt.xlabel('Topic')\n",
        "plt.ylabel('Count')\n",
        "plt.show()\n"
      ],
      "metadata": {
        "colab": {
          "base_uri": "https://localhost:8080/",
          "height": 922
        },
        "id": "zgiO3t1V1N_3",
        "outputId": "d8b90615-56bc-4d7f-c896-ab76ff3289b2"
      },
      "execution_count": 6,
      "outputs": [
        {
          "output_type": "display_data",
          "data": {
            "text/plain": [
              "<Figure size 640x480 with 1 Axes>"
            ],
            "image/png": "[encoded data removed]"
          },
          "metadata": {}
        },
        {
          "output_type": "display_data",
          "data": {
            "text/plain": [
              "<Figure size 640x480 with 1 Axes>"
            ],
            "image/png": "[encoded data removed]"
          },
          "metadata": {}
        }
      ]
    },
    {
      "cell_type": "markdown",
      "source": [
        "# Final Discussion\n",
        "\n",
        "Strengths and Limitations:\n",
        "\n",
        "Strengths: Customer Sentiments can be identified so as to make improvements towards negative and keeping up the good work towards positive sentiments can be achieved.\n",
        "\n",
        "Limitations: Eventhough the accuracy is high, there is still room for improvement. Hence, to land in deeper insights, a better model could be developed.\n",
        "\n",
        "\n",
        "Recommendations:\n",
        "\n",
        "* Sentiment Analysis can be made use to address customer concerns.\n",
        "\n",
        "* Topic modelling insights can be made use for product development and marketing strategies."
      ],
      "metadata": {
        "id": "u3GPuXa61qN7"
      }
    }
  ]
}